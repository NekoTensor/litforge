{
  "nbformat": 4,
  "nbformat_minor": 0,
  "metadata": {
    "colab": {
      "provenance": []
    },
    "kernelspec": {
      "name": "python3",
      "display_name": "Python 3"
    },
    "language_info": {
      "name": "python"
    }
  },
  "cells": [
    {
      "cell_type": "markdown",
      "source": [
        "# Litforge Library for LLaMA Model\n",
        "This notebook demonstrates the implementation of a `Litforge` library that:\n",
        "- Loads weights from a LLaMA model using Hugging Face (only for weight extraction).\n",
        "- Implements the transformer forward pass and text generation using only PyTorch.\n",
        "- Performs token-by-token generation using greedy decoding.\n"
      ],
      "metadata": {
        "id": "F-uIb_AjL5d8"
      }
    },
    {
      "source": [
        "import torch\n",
        "import torch.nn as nn\n",
        "import torch.nn.functional as F\n",
        "from transformers import AutoModelForCausalLM, AutoTokenizer\n",
        "\n",
        "class LitForge(nn.Module):\n",
        "    def __init__(self, model_name):\n",
        "        super().__init__()\n",
        "        self.load_weights(model_name)\n",
        "\n",
        "    def load_weights(self, model_name):\n",
        "        # Loading the pretrained model using Transformers\n",
        "        model = AutoModelForCausalLM.from_pretrained(model_name)\n",
        "        self.weights = {k: v.clone().detach() for k, v in model.state_dict().items()}\n",
        "        self.tokenizer = AutoTokenizer.from_pretrained(model_name)\n",
        "        self.config = model.config\n",
        "\n",
        "    def forward(self, input_ids, past_key_values=None):\n",
        "        # Mapping input IDs to embeddings\n",
        "        x = self.weights[\"model.embed_tokens.weight\"][input_ids]\n",
        "        new_past = []\n",
        "        for i in range(self.config.num_hidden_layers):\n",
        "            q = F.linear(x, self.weights[f\"model.layers.{i}.self_attn.q_proj.weight\"])\n",
        "            k = F.linear(x, self.weights[f\"model.layers.{i}.self_attn.k_proj.weight\"])\n",
        "            v = F.linear(x, self.weights[f\"model.layers.{i}.self_attn.v_proj.weight\"])\n",
        "            if past_key_values is not None:\n",
        "                past_k, past_v = past_key_values[i]\n",
        "                k = torch.cat([past_k, k], dim=1)\n",
        "                v = torch.cat([past_v, v], dim=1)\n",
        "            new_past.append((k, v))\n",
        "            # Scaled dot-product attention\n",
        "            scale = self.config.hidden_size ** 0.5\n",
        "            attn_scores = torch.matmul(q, k.transpose(-2, -1)) / scale\n",
        "            attn_probs = F.softmax(attn_scores, dim=-1)\n",
        "            attn_out = torch.matmul(attn_probs, v)\n",
        "            # Output projection with residual connection\n",
        "            proj = F.linear(attn_out, self.weights[f\"model.layers.{i}.self_attn.o_proj.weight\"])\n",
        "            x = x + proj\n",
        "            # Feed-forward network with GELU activation and residual connection\n",
        "            ff = F.linear(x, self.weights[f\"model.layers.{i}.mlp.fc_in.weight\"],\n",
        "                           self.weights.get(f\"model.layers.{i}.mlp.fc_in.bias\", None))\n",
        "            ff = F.gelu(ff)\n",
        "            ff = F.linear(ff, self.weights[f\"model.layers.{i}.mlp.fc_out.weight\"],\n",
        "                           self.weights.get(f\"model.layers.{i}.mlp.fc_out.bias\", None))\n",
        "            x = x + ff\n",
        "        # Layer normalization and weight tying to compute final logits\n",
        "        x = F.layer_norm(x, (self.config.hidden_size,),\n",
        "                         weight=self.weights[\"model.norm.weight\"],\n",
        "                         bias=self.weights[\"model.norm.bias\"])\n",
        "        logits = torch.matmul(x, self.weights[\"model.embed_tokens.weight\"].T)\n",
        "        return logits, new_past\n",
        "\n",
        "    def generate(self, prompt, max_length=512):\n",
        "        # Tokenizing the prompt and generate text via greedy decoding\n",
        "        input_ids = torch.tensor([self.tokenizer.encode(prompt)], dtype=torch.long)\n",
        "        self.eval()\n",
        "        with torch.no_grad():\n",
        "            logits, past = self.forward(input_ids, None)\n",
        "            for _ in range(max_length - input_ids.shape[1]):\n",
        "                last_token = input_ids[:, -1:]\n",
        "                logits, past = self.forward(last_token, past_key_values=past)\n",
        "                next_token = torch.argmax(logits[:, -1, :], dim=-1, keepdim=True)\n",
        "                input_ids = torch.cat([input_ids, next_token], dim=1)\n",
        "                if next_token.item() == self.tokenizer.eos_token_id:\n",
        "                    break\n",
        "        return self.tokenizer.decode(input_ids[0].tolist())\n"
      ],
      "cell_type": "code",
      "metadata": {
        "id": "NaMf9j9HSr5V"
      },
      "execution_count": 1,
      "outputs": []
    },
    {
      "cell_type": "code",
      "source": [
        "\n",
        "!pip install transformers\n"
      ],
      "metadata": {
        "colab": {
          "base_uri": "https://localhost:8080/"
        },
        "id": "3wbG_TWXME7K",
        "outputId": "9f396d24-231c-4488-c6b7-9204a1fa1196"
      },
      "execution_count": 2,
      "outputs": [
        {
          "output_type": "stream",
          "name": "stdout",
          "text": [
            "Requirement already satisfied: transformers in /usr/local/lib/python3.11/dist-packages (4.48.3)\n",
            "Requirement already satisfied: filelock in /usr/local/lib/python3.11/dist-packages (from transformers) (3.17.0)\n",
            "Requirement already satisfied: huggingface-hub<1.0,>=0.24.0 in /usr/local/lib/python3.11/dist-packages (from transformers) (0.28.1)\n",
            "Requirement already satisfied: numpy>=1.17 in /usr/local/lib/python3.11/dist-packages (from transformers) (1.26.4)\n",
            "Requirement already satisfied: packaging>=20.0 in /usr/local/lib/python3.11/dist-packages (from transformers) (24.2)\n",
            "Requirement already satisfied: pyyaml>=5.1 in /usr/local/lib/python3.11/dist-packages (from transformers) (6.0.2)\n",
            "Requirement already satisfied: regex!=2019.12.17 in /usr/local/lib/python3.11/dist-packages (from transformers) (2024.11.6)\n",
            "Requirement already satisfied: requests in /usr/local/lib/python3.11/dist-packages (from transformers) (2.32.3)\n",
            "Requirement already satisfied: tokenizers<0.22,>=0.21 in /usr/local/lib/python3.11/dist-packages (from transformers) (0.21.0)\n",
            "Requirement already satisfied: safetensors>=0.4.1 in /usr/local/lib/python3.11/dist-packages (from transformers) (0.5.3)\n",
            "Requirement already satisfied: tqdm>=4.27 in /usr/local/lib/python3.11/dist-packages (from transformers) (4.67.1)\n",
            "Requirement already satisfied: fsspec>=2023.5.0 in /usr/local/lib/python3.11/dist-packages (from huggingface-hub<1.0,>=0.24.0->transformers) (2024.10.0)\n",
            "Requirement already satisfied: typing-extensions>=3.7.4.3 in /usr/local/lib/python3.11/dist-packages (from huggingface-hub<1.0,>=0.24.0->transformers) (4.12.2)\n",
            "Requirement already satisfied: charset-normalizer<4,>=2 in /usr/local/lib/python3.11/dist-packages (from requests->transformers) (3.4.1)\n",
            "Requirement already satisfied: idna<4,>=2.5 in /usr/local/lib/python3.11/dist-packages (from requests->transformers) (3.10)\n",
            "Requirement already satisfied: urllib3<3,>=1.21.1 in /usr/local/lib/python3.11/dist-packages (from requests->transformers) (2.3.0)\n",
            "Requirement already satisfied: certifi>=2017.4.17 in /usr/local/lib/python3.11/dist-packages (from requests->transformers) (2025.1.31)\n"
          ]
        }
      ]
    },
    {
      "cell_type": "code",
      "source": [
        "!huggingface-cli login\n"
      ],
      "metadata": {
        "colab": {
          "base_uri": "https://localhost:8080/"
        },
        "id": "IoZDcd59OOx6",
        "outputId": "e97996ba-9be5-4f26-d0b8-8e66cb804c2b"
      },
      "execution_count": 3,
      "outputs": [
        {
          "output_type": "stream",
          "name": "stdout",
          "text": [
            "\n",
            "    _|    _|  _|    _|    _|_|_|    _|_|_|  _|_|_|  _|      _|    _|_|_|      _|_|_|_|    _|_|      _|_|_|  _|_|_|_|\n",
            "    _|    _|  _|    _|  _|        _|          _|    _|_|    _|  _|            _|        _|    _|  _|        _|\n",
            "    _|_|_|_|  _|    _|  _|  _|_|  _|  _|_|    _|    _|  _|  _|  _|  _|_|      _|_|_|    _|_|_|_|  _|        _|_|_|\n",
            "    _|    _|  _|    _|  _|    _|  _|    _|    _|    _|    _|_|  _|    _|      _|        _|    _|  _|        _|\n",
            "    _|    _|    _|_|      _|_|_|    _|_|_|  _|_|_|  _|      _|    _|_|_|      _|        _|    _|    _|_|_|  _|_|_|_|\n",
            "\n",
            "    A token is already saved on your machine. Run `huggingface-cli whoami` to get more information or `huggingface-cli logout` if you want to log out.\n",
            "    Setting a new token will erase the existing one.\n",
            "    To log in, `huggingface_hub` requires a token generated from https://huggingface.co/settings/tokens .\n",
            "Enter your token (input will not be visible): \n",
            "Add token as git credential? (Y/n) n\n",
            "Token is valid (permission: fineGrained).\n",
            "The token `NekoTensor` has been saved to /root/.cache/huggingface/stored_tokens\n",
            "Your token has been saved to /root/.cache/huggingface/token\n",
            "Login successful.\n",
            "The current active token is: `NekoTensor`\n"
          ]
        }
      ]
    },
    {
      "cell_type": "markdown",
      "source": [
        "## Model Demonstration: Visualizing Weights and Generating Text\n",
        "\n",
        "This cell will:\n",
        "1. Load the model (using `\"meta-llama/Llama-3.2-1B\"` as an example for demonstration).\n",
        "2. Print key weight shapes and configuration details.\n",
        "3. Visualize the distribution of embedding weights using a histogram.\n"
      ],
      "metadata": {
        "id": "FPllCTA5UwIK"
      }
    },
    {
      "source": [
        "import matplotlib.pyplot as plt\n",
        "\n",
        "model_name = \"meta-llama/Llama-3.2-1B\"\n",
        "model = LitForge(model_name)\n",
        "\n",
        "print(\"Model Configuration:\")\n",
        "print(model.config)\n",
        "\n",
        "print(\"\\nEmbedding weight shape:\", model.weights[\"model.embed_tokens.weight\"].shape)\n",
        "print(\"Layer 0 q_proj weight shape:\", model.weights[\"model.layers.0.self_attn.q_proj.weight\"].shape)\n",
        "\n",
        "weights = model.weights[\"model.embed_tokens.weight\"].cpu().numpy().flatten()\n",
        "plt.figure(figsize=(8, 4))\n",
        "plt.hist(weights, bins=50, color='skyblue', edgecolor='black')\n",
        "plt.title(\"Distribution of Embedding Weights\")\n",
        "plt.xlabel(\"Weight Value\")\n",
        "plt.ylabel(\"Frequency\")\n",
        "plt.show()"
      ],
      "cell_type": "code",
      "metadata": {
        "colab": {
          "base_uri": "https://localhost:8080/",
          "height": 1000
        },
        "id": "IJnmvpFRUGK0",
        "outputId": "b9cdb690-dce8-4a96-d67c-32366eb37f28"
      },
      "execution_count": 6,
      "outputs": [
        {
          "output_type": "stream",
          "name": "stderr",
          "text": [
            "/usr/local/lib/python3.11/dist-packages/huggingface_hub/utils/_auth.py:94: UserWarning: \n",
            "The secret `HF_TOKEN` does not exist in your Colab secrets.\n",
            "To authenticate with the Hugging Face Hub, create a token in your settings tab (https://huggingface.co/settings/tokens), set it as secret in your Google Colab and restart your session.\n",
            "You will be able to reuse this secret in all of your notebooks.\n",
            "Please note that authentication is recommended but still optional to access public models or datasets.\n",
            "  warnings.warn(\n"
          ]
        },
        {
          "output_type": "stream",
          "name": "stdout",
          "text": [
            "Model Configuration:\n",
            "LlamaConfig {\n",
            "  \"_attn_implementation_autoset\": true,\n",
            "  \"_name_or_path\": \"meta-llama/Llama-3.2-1B\",\n",
            "  \"architectures\": [\n",
            "    \"LlamaForCausalLM\"\n",
            "  ],\n",
            "  \"attention_bias\": false,\n",
            "  \"attention_dropout\": 0.0,\n",
            "  \"bos_token_id\": 128000,\n",
            "  \"eos_token_id\": 128001,\n",
            "  \"head_dim\": 64,\n",
            "  \"hidden_act\": \"silu\",\n",
            "  \"hidden_size\": 2048,\n",
            "  \"initializer_range\": 0.02,\n",
            "  \"intermediate_size\": 8192,\n",
            "  \"max_position_embeddings\": 131072,\n",
            "  \"mlp_bias\": false,\n",
            "  \"model_type\": \"llama\",\n",
            "  \"num_attention_heads\": 32,\n",
            "  \"num_hidden_layers\": 16,\n",
            "  \"num_key_value_heads\": 8,\n",
            "  \"pretraining_tp\": 1,\n",
            "  \"rms_norm_eps\": 1e-05,\n",
            "  \"rope_scaling\": {\n",
            "    \"factor\": 32.0,\n",
            "    \"high_freq_factor\": 4.0,\n",
            "    \"low_freq_factor\": 1.0,\n",
            "    \"original_max_position_embeddings\": 8192,\n",
            "    \"rope_type\": \"llama3\"\n",
            "  },\n",
            "  \"rope_theta\": 500000.0,\n",
            "  \"tie_word_embeddings\": true,\n",
            "  \"torch_dtype\": \"bfloat16\",\n",
            "  \"transformers_version\": \"4.48.3\",\n",
            "  \"use_cache\": true,\n",
            "  \"vocab_size\": 128256\n",
            "}\n",
            "\n",
            "\n",
            "Embedding weight shape: torch.Size([128256, 2048])\n",
            "Layer 0 q_proj weight shape: torch.Size([2048, 2048])\n"
          ]
        },
        {
          "output_type": "display_data",
          "data": {
            "text/plain": [
              "<Figure size 800x400 with 1 Axes>"
            ],
            "image/png": "[encoded data removed]"
          },
          "metadata": {}
        }
      ]
    }
  ]
}